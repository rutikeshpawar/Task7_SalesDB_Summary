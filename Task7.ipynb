{
 "cells": [
  {
   "cell_type": "code",
   "execution_count": 1,
   "id": "2fad5620",
   "metadata": {},
   "outputs": [
    {
     "name": "stdout",
     "output_type": "stream",
     "text": [
      "✅ Created sales_data.db with table 'sales' and inserted sample rows.\n"
     ]
    }
   ],
   "source": [
    "import sqlite3\n",
    "\n",
    "# 1) Connect to (or create) the SQLite file.\n",
    "# If 'sales_data.db' does not exist, this creates it in the current folder.\n",
    "conn = sqlite3.connect(\"sales_data.db\")\n",
    "\n",
    "# 2) Create a cursor to run SQL commands.\n",
    "cursor = conn.cursor()\n",
    "\n",
    "# 3) Create the 'sales' table if it doesn't exist yet.\n",
    "# Columns follow the task’s hint: product, quantity, price.\n",
    "cursor.execute(\"\"\"\n",
    "CREATE TABLE IF NOT EXISTS sales (\n",
    "    product  TEXT,\n",
    "    quantity INTEGER,\n",
    "    price    REAL\n",
    ")\n",
    "\"\"\")\n",
    "\n",
    "# 4) Insert some small sample data so your later query has something to read.\n",
    "sample_data = [\n",
    "    (\"Pen\", 10, 5),\n",
    "    (\"Pencil\", 20, 2),\n",
    "    (\"Notebook\", 5, 20),\n",
    "    (\"Pen\", 15, 5),\n",
    "    (\"Notebook\", 10, 20)\n",
    "]\n",
    "cursor.executemany(\"INSERT INTO sales VALUES (?, ?, ?)\", sample_data)\n",
    "\n",
    "# 5) Save changes to disk and close the connection.\n",
    "conn.commit()\n",
    "conn.close()\n",
    "\n",
    "print(\"✅ Created sales_data.db with table 'sales' and inserted sample rows.\")\n"
   ]
  },
  {
   "cell_type": "code",
   "execution_count": 2,
   "id": "3b49d54a",
   "metadata": {},
   "outputs": [
    {
     "name": "stdout",
     "output_type": "stream",
     "text": [
      "Table schema: [(0, 'product', 'TEXT', 0, None, 0), (1, 'quantity', 'INTEGER', 0, None, 0), (2, 'price', 'REAL', 0, None, 0)]\n",
      "Rows:\n",
      "('Pen', 10, 5.0)\n",
      "('Pencil', 20, 2.0)\n",
      "('Notebook', 5, 20.0)\n",
      "('Pen', 15, 5.0)\n",
      "('Notebook', 10, 20.0)\n"
     ]
    }
   ],
   "source": [
    "import sqlite3\n",
    "conn = sqlite3.connect(\"sales_data.db\")\n",
    "cur = conn.cursor()\n",
    "\n",
    "# See the schema\n",
    "cur.execute(\"PRAGMA table_info(sales)\")\n",
    "print(\"Table schema:\", cur.fetchall())\n",
    "\n",
    "# Peek at the data\n",
    "cur.execute(\"SELECT * FROM sales\")\n",
    "rows = cur.fetchall()\n",
    "print(\"Rows:\")\n",
    "for r in rows:\n",
    "    print(r)\n",
    "\n",
    "conn.close()\n"
   ]
  },
  {
   "cell_type": "code",
   "execution_count": 3,
   "id": "974c8a00",
   "metadata": {},
   "outputs": [
    {
     "name": "stdout",
     "output_type": "stream",
     "text": [
      "    product  total_qty  revenue\n",
      "0  Notebook         15    300.0\n",
      "1       Pen         25    125.0\n",
      "2    Pencil         20     40.0\n"
     ]
    }
   ],
   "source": [
    "import sqlite3\n",
    "import pandas as pd\n",
    "\n",
    "conn = sqlite3.connect(\"sales_data.db\")\n",
    "\n",
    "query = \"\"\"\n",
    "SELECT product,\n",
    "       SUM(quantity) AS total_qty,\n",
    "       SUM(quantity * price) AS revenue\n",
    "FROM sales\n",
    "GROUP BY product\n",
    "\"\"\"\n",
    "\n",
    "df = pd.read_sql_query(query, conn)\n",
    "print(df)\n",
    "\n",
    "conn.close()\n"
   ]
  },
  {
   "cell_type": "code",
   "execution_count": 6,
   "id": "cf88dca2",
   "metadata": {},
   "outputs": [],
   "source": [
    "conn = sqlite3.connect(\"sales_data.db\")"
   ]
  },
  {
   "cell_type": "code",
   "execution_count": 7,
   "id": "24edb4d1",
   "metadata": {},
   "outputs": [
    {
     "name": "stdout",
     "output_type": "stream",
     "text": [
      "    product  total_qty  revenue\n",
      "0  Notebook         15    300.0\n",
      "1       Pen         25    125.0\n",
      "2    Pencil         20     40.0\n"
     ]
    }
   ],
   "source": [
    "df = pd.read_sql_query(query, conn)\n",
    "print(df)"
   ]
  },
  {
   "cell_type": "code",
   "execution_count": 8,
   "id": "5ec684ab",
   "metadata": {},
   "outputs": [
    {
     "data": {
      "image/png": "[encoded data removed]",
      "text/plain": [
       "<Figure size 432x288 with 1 Axes>"
      ]
     },
     "metadata": {
      "needs_background": "light"
     },
     "output_type": "display_data"
    }
   ],
   "source": [
    "import matplotlib.pyplot as plt\n",
    "\n",
    "# Plot bar chart\n",
    "df.plot(kind='bar', x='product', y='revenue')\n",
    "\n",
    "# Add labels and title\n",
    "plt.title(\"Revenue by Product\")\n",
    "plt.xlabel(\"Product\")\n",
    "plt.ylabel(\"Revenue\")\n",
    "\n",
    "# Show the chart\n",
    "plt.show()"
   ]
  },
  {
   "cell_type": "code",
   "execution_count": 9,
   "id": "b284cfa8",
   "metadata": {},
   "outputs": [
    {
     "data": {
      "text/plain": [
       "<Figure size 432x288 with 0 Axes>"
      ]
     },
     "metadata": {},
     "output_type": "display_data"
    }
   ],
   "source": [
    "plt.savefig(\"sales_chart.png\")"
   ]
  }
 ],
 "metadata": {
  "kernelspec": {
   "display_name": "Python 3 (ipykernel)",
   "language": "python",
   "name": "python3"
  },
  "language_info": {
   "codemirror_mode": {
    "name": "ipython",
    "version": 3
   },
   "file_extension": ".py",
   "mimetype": "text/x-python",
   "name": "python",
   "nbconvert_exporter": "python",
   "pygments_lexer": "ipython3",
   "version": "3.9.12"
  }
 },
 "nbformat": 4,
 "nbformat_minor": 5
}
